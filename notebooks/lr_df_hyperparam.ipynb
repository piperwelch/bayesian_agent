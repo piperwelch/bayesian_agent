{
 "cells": [
  {
   "cell_type": "code",
   "execution_count": 2,
   "metadata": {},
   "outputs": [
    {
     "ename": "ModuleNotFoundError",
     "evalue": "No module named 'bayegent'",
     "output_type": "error",
     "traceback": [
      "\u001b[0;31m---------------------------------------------------------------------------\u001b[0m",
      "\u001b[0;31mModuleNotFoundError\u001b[0m                       Traceback (most recent call last)",
      "Cell \u001b[0;32mIn[2], line 7\u001b[0m\n\u001b[1;32m      4\u001b[0m \u001b[39mfrom\u001b[39;00m \u001b[39mconcurrent\u001b[39;00m\u001b[39m.\u001b[39;00m\u001b[39mfutures\u001b[39;00m \u001b[39mimport\u001b[39;00m ProcessPoolExecutor\n\u001b[1;32m      5\u001b[0m \u001b[39mimport\u001b[39;00m \u001b[39mconcurrent\u001b[39;00m\n\u001b[0;32m----> 7\u001b[0m \u001b[39mfrom\u001b[39;00m \u001b[39mbayegent\u001b[39;00m \u001b[39mimport\u001b[39;00m Bayegent\n\u001b[1;32m      8\u001b[0m \u001b[39mfrom\u001b[39;00m \u001b[39menvironment\u001b[39;00m \u001b[39mimport\u001b[39;00m GridMazeEnvironment\n",
      "\u001b[0;31mModuleNotFoundError\u001b[0m: No module named 'bayegent'"
     ]
    }
   ],
   "source": [
    "import time\n",
    "import numpy as np\n",
    "import matplotlib.pyplot as plt\n",
    "from concurrent.futures import ProcessPoolExecutor\n",
    "import concurrent\n",
    "\n",
    "from bayegent import Bayegent\n",
    "from environment import GridMazeEnvironment"
   ]
  },
  {
   "cell_type": "code",
   "execution_count": null,
   "metadata": {},
   "outputs": [],
   "source": [
    "def run_one_seed(seed, parameters, n_runs=100):\n",
    "    environment = GridMazeEnvironment(seed)\n",
    "    agent = Bayegent(environment, seed, parameters=parameters)\n",
    "\n",
    "    all_position_histories = agent.learn_bayesian(n_runs)\n",
    "\n",
    "    return all_position_histories\n"
   ]
  },
  {
   "cell_type": "code",
   "execution_count": 3,
   "metadata": {},
   "outputs": [],
   "source": [
    "def run_experiment(lr_interval, df_interval, curiosity_interval=(0.2,0.9), gridsize=10, n_runs=100):\n",
    "    # Constants\n",
    "    curiosities = list(reversed(np.linspace(curiosity_interval[0],curiosity_interval[1],n_runs)))\n",
    "\n",
    "\n",
    "    # Param search over learning rates and discount factors\n",
    "    learning_rates = list(reversed(np.linspace(lr_interval[0],lr_interval[1],gridsize)))\n",
    "    discount_factors = list(reversed(np.linspace(lr_interval[0],lr_interval[1],gridsize)))\n",
    "\n",
    "    last_path_lengths = {lr: {df: 0 for df in discount_factors} for lr in learning_rates}\n",
    "    min_path_lengths = {lr: {df: 0 for df in discount_factors} for lr in learning_rates}\n",
    "    running_times_weaning = {lr: {df: 0 for df in discount_factors} for lr in learning_rates}\n",
    "\n",
    "    # Iterate over 100 seeds\n",
    "    for lr in learning_rates:\n",
    "        for df in discount_factors:\n",
    "            print(f'LR: {lr}, DF: {df}')\n",
    "            for seed in range(50):\n",
    "                print(f'{seed}/50')\n",
    "                start = time.time()\n",
    "                position_histories = run_one_seed(seed, \n",
    "                                                parameters={\n",
    "                                                    'curiosity': curiosities,\n",
    "                                                    'step_reward': -0.1,\n",
    "                                                    'goal_reward': 1,\n",
    "                                                    'learning_rate': lr, # 0.5\n",
    "                                                    'discount_factor': df, # 0.8\n",
    "                                                },\n",
    "                                                n_runs=n_runs)\n",
    "                end = time.time()\n",
    "\n",
    "                path_lengths = [len(pl) for pl in position_histories]\n",
    "\n",
    "                running_times_weaning[lr][df] = end-start\n",
    "                last_path_lengths[lr][df] = path_lengths[-1]\n",
    "                min_path_lengths[lr][df] = min(path_lengths)\n",
    "\n",
    "    return last_path_lengths, min_path_lengths, running_times_weaning"
   ]
  },
  {
   "cell_type": "code",
   "execution_count": 8,
   "metadata": {},
   "outputs": [
    {
     "name": "stdout",
     "output_type": "stream",
     "text": [
      "LR: 0.9, DF: 0.9\n",
      "0/50\n",
      "1/50\n",
      "2/50\n",
      "3/50\n",
      "4/50\n",
      "5/50\n",
      "6/50\n",
      "7/50\n",
      "8/50\n",
      "9/50\n",
      "10/50\n",
      "11/50\n",
      "12/50\n",
      "13/50\n",
      "14/50\n",
      "15/50\n",
      "16/50\n",
      "17/50\n",
      "18/50\n",
      "19/50\n",
      "20/50\n",
      "21/50\n",
      "22/50\n",
      "23/50\n",
      "24/50\n",
      "25/50\n",
      "26/50\n",
      "27/50\n",
      "28/50\n",
      "29/50\n",
      "30/50\n",
      "31/50\n",
      "32/50\n",
      "33/50\n",
      "34/50\n",
      "35/50\n",
      "36/50\n",
      "37/50\n",
      "38/50\n",
      "39/50\n",
      "40/50\n",
      "41/50\n",
      "42/50\n",
      "43/50\n",
      "44/50\n",
      "45/50\n",
      "46/50\n",
      "47/50\n",
      "48/50\n",
      "49/50\n",
      "LR: 0.9, DF: 0.8\n",
      "0/50\n",
      "1/50\n",
      "2/50\n",
      "3/50\n",
      "4/50\n",
      "5/50\n",
      "6/50\n",
      "7/50\n",
      "8/50\n",
      "9/50\n",
      "10/50\n",
      "11/50\n",
      "12/50\n",
      "13/50\n",
      "14/50\n",
      "15/50\n",
      "16/50\n",
      "17/50\n",
      "18/50\n",
      "19/50\n",
      "20/50\n",
      "21/50\n",
      "22/50\n",
      "23/50\n",
      "24/50\n",
      "25/50\n",
      "26/50\n",
      "27/50\n",
      "28/50\n",
      "29/50\n",
      "30/50\n",
      "31/50\n",
      "32/50\n",
      "33/50\n",
      "34/50\n",
      "35/50\n",
      "36/50\n",
      "37/50\n",
      "38/50\n",
      "39/50\n",
      "40/50\n",
      "41/50\n",
      "42/50\n",
      "43/50\n",
      "44/50\n",
      "45/50\n",
      "46/50\n",
      "47/50\n",
      "48/50\n",
      "49/50\n",
      "LR: 0.9, DF: 0.7000000000000001\n",
      "0/50\n",
      "1/50\n",
      "2/50\n",
      "3/50\n",
      "4/50\n",
      "5/50\n",
      "6/50\n",
      "7/50\n",
      "8/50\n",
      "9/50\n",
      "10/50\n",
      "11/50\n",
      "12/50\n",
      "13/50\n",
      "14/50\n",
      "15/50\n",
      "16/50\n",
      "17/50\n"
     ]
    },
    {
     "ename": "KeyboardInterrupt",
     "evalue": "",
     "output_type": "error",
     "traceback": [
      "\u001b[0;31m---------------------------------------------------------------------------\u001b[0m",
      "\u001b[0;31mKeyboardInterrupt\u001b[0m                         Traceback (most recent call last)",
      "Cell \u001b[0;32mIn[8], line 1\u001b[0m\n\u001b[0;32m----> 1\u001b[0m last_path_lengths, min_path_lengths, running_times_weaning \u001b[39m=\u001b[39m run_experiment((\u001b[39m0.3\u001b[39;49m,\u001b[39m0.9\u001b[39;49m), (\u001b[39m0.3\u001b[39;49m,\u001b[39m0.8\u001b[39;49m), gridsize\u001b[39m=\u001b[39;49m\u001b[39m7\u001b[39;49m)\n",
      "Cell \u001b[0;32mIn[7], line 21\u001b[0m, in \u001b[0;36mrun_experiment\u001b[0;34m(lr_interval, df_interval, curiosity_interval, gridsize, n_runs)\u001b[0m\n\u001b[1;32m     19\u001b[0m \u001b[39mprint\u001b[39m(\u001b[39mf\u001b[39m\u001b[39m'\u001b[39m\u001b[39m{\u001b[39;00mseed\u001b[39m}\u001b[39;00m\u001b[39m/50\u001b[39m\u001b[39m'\u001b[39m)\n\u001b[1;32m     20\u001b[0m start \u001b[39m=\u001b[39m time\u001b[39m.\u001b[39mtime()\n\u001b[0;32m---> 21\u001b[0m position_histories \u001b[39m=\u001b[39m run_one_seed(seed, \n\u001b[1;32m     22\u001b[0m                                 parameters\u001b[39m=\u001b[39;49m{\n\u001b[1;32m     23\u001b[0m                                     \u001b[39m'\u001b[39;49m\u001b[39mcuriosity\u001b[39;49m\u001b[39m'\u001b[39;49m: curiosities,\n\u001b[1;32m     24\u001b[0m                                     \u001b[39m'\u001b[39;49m\u001b[39mstep_reward\u001b[39;49m\u001b[39m'\u001b[39;49m: \u001b[39m-\u001b[39;49m\u001b[39m0.1\u001b[39;49m,\n\u001b[1;32m     25\u001b[0m                                     \u001b[39m'\u001b[39;49m\u001b[39mgoal_reward\u001b[39;49m\u001b[39m'\u001b[39;49m: \u001b[39m1\u001b[39;49m,\n\u001b[1;32m     26\u001b[0m                                     \u001b[39m'\u001b[39;49m\u001b[39mlearning_rate\u001b[39;49m\u001b[39m'\u001b[39;49m: lr, \u001b[39m# 0.5\u001b[39;49;00m\n\u001b[1;32m     27\u001b[0m                                     \u001b[39m'\u001b[39;49m\u001b[39mdiscount_factor\u001b[39;49m\u001b[39m'\u001b[39;49m: df, \u001b[39m# 0.8\u001b[39;49;00m\n\u001b[1;32m     28\u001b[0m                                 },\n\u001b[1;32m     29\u001b[0m                                 n_runs\u001b[39m=\u001b[39;49mn_runs)\n\u001b[1;32m     30\u001b[0m end \u001b[39m=\u001b[39m time\u001b[39m.\u001b[39mtime()\n\u001b[1;32m     32\u001b[0m path_lengths \u001b[39m=\u001b[39m [\u001b[39mlen\u001b[39m(pl) \u001b[39mfor\u001b[39;00m pl \u001b[39min\u001b[39;00m position_histories]\n",
      "Cell \u001b[0;32mIn[2], line 5\u001b[0m, in \u001b[0;36mrun_one_seed\u001b[0;34m(seed, parameters, n_runs)\u001b[0m\n\u001b[1;32m      2\u001b[0m environment \u001b[39m=\u001b[39m GridMazeEnvironment(seed)\n\u001b[1;32m      3\u001b[0m agent \u001b[39m=\u001b[39m Bayegent(environment, seed, parameters\u001b[39m=\u001b[39mparameters)\n\u001b[0;32m----> 5\u001b[0m all_position_histories \u001b[39m=\u001b[39m agent\u001b[39m.\u001b[39;49mlearn_bayesian(n_runs)\n\u001b[1;32m      7\u001b[0m \u001b[39mreturn\u001b[39;00m all_position_histories\n",
      "File \u001b[0;32m~/dev/classes/bayesian/bayesian_agent/bayegent.py:36\u001b[0m, in \u001b[0;36mBayegent.learn_bayesian\u001b[0;34m(self, n_runs, debug)\u001b[0m\n\u001b[1;32m     34\u001b[0m all_position_histories \u001b[39m=\u001b[39m []\n\u001b[1;32m     35\u001b[0m \u001b[39mfor\u001b[39;00m i \u001b[39min\u001b[39;00m \u001b[39mrange\u001b[39m(n_runs): \u001b[39m# Run through the maze N times\u001b[39;00m\n\u001b[0;32m---> 36\u001b[0m     position_history, sa_history, posterior_history  \u001b[39m=\u001b[39m \u001b[39mself\u001b[39;49m\u001b[39m.\u001b[39;49mrun_maze_bayesian(i)\n\u001b[1;32m     38\u001b[0m     \u001b[39mself\u001b[39m\u001b[39m.\u001b[39mupdate_qtable(sa_history)\n\u001b[1;32m     39\u001b[0m     \u001b[39mself\u001b[39m\u001b[39m.\u001b[39mupdate_likelihood(posterior_history, sa_history)\n",
      "File \u001b[0;32m~/dev/classes/bayesian/bayesian_agent/bayegent.py:248\u001b[0m, in \u001b[0;36mBayegent.run_maze_bayesian\u001b[0;34m(self, run)\u001b[0m\n\u001b[1;32m    225\u001b[0m \u001b[39mself\u001b[39m\u001b[39m.\u001b[39mupdate_posterior(sensor_state) \u001b[39m# Multiply prior by likelihood\u001b[39;00m\n\u001b[1;32m    227\u001b[0m \u001b[39m# if run == 9: # Visualize Likelihood\u001b[39;00m\n\u001b[1;32m    228\u001b[0m \u001b[39m#     # print(self.likelihood[sensor_state], self.position)\u001b[39;00m\n\u001b[1;32m    229\u001b[0m \u001b[39m#     fig, axs = plt.subplots(1,3, figsize=(15,5))\u001b[39;00m\n\u001b[0;32m   (...)\u001b[0m\n\u001b[1;32m    245\u001b[0m \u001b[39m#     plt.pause(0.5)\u001b[39;00m\n\u001b[1;32m    246\u001b[0m \u001b[39m#     plt.clf()\u001b[39;00m\n\u001b[0;32m--> 248\u001b[0m action \u001b[39m=\u001b[39m \u001b[39mself\u001b[39;49m\u001b[39m.\u001b[39;49mtake_bayesian_action(sensor_state, \u001b[39mself\u001b[39;49m\u001b[39m.\u001b[39;49mcuriosity[run]) \u001b[39m# Take the action using the current posterior\u001b[39;00m\n\u001b[1;32m    250\u001b[0m \u001b[39mself\u001b[39m\u001b[39m.\u001b[39mupdate_prior(action) \u001b[39m# Update prior after the action (shift n smear)\u001b[39;00m\n\u001b[1;32m    252\u001b[0m posterior_history\u001b[39m.\u001b[39mappend(\u001b[39mself\u001b[39m\u001b[39m.\u001b[39mposterior)\n",
      "File \u001b[0;32m~/dev/classes/bayesian/bayesian_agent/bayegent.py:185\u001b[0m, in \u001b[0;36mBayegent.take_bayesian_action\u001b[0;34m(self, sensor_state, curiosity)\u001b[0m\n\u001b[1;32m    184\u001b[0m \u001b[39mdef\u001b[39;00m \u001b[39mtake_bayesian_action\u001b[39m(\u001b[39mself\u001b[39m, sensor_state, curiosity):\n\u001b[0;32m--> 185\u001b[0m     action \u001b[39m=\u001b[39m \u001b[39mself\u001b[39;49m\u001b[39m.\u001b[39;49mtake_qtable_weighted_action(sensor_state, \u001b[39mself\u001b[39;49m\u001b[39m.\u001b[39;49mposterior, curiosity)\n\u001b[1;32m    187\u001b[0m     \u001b[39mreturn\u001b[39;00m action\n",
      "File \u001b[0;32m~/dev/classes/bayesian/bayesian_agent/bayegent.py:165\u001b[0m, in \u001b[0;36mBayegent.take_qtable_weighted_action\u001b[0;34m(self, sensor_state, posterior_distribution, curiosity)\u001b[0m\n\u001b[1;32m    161\u001b[0m         action_space\u001b[39m.\u001b[39mappend(action)\n\u001b[1;32m    163\u001b[0m reward_for_action \u001b[39m=\u001b[39m {a: \u001b[39m0\u001b[39m \u001b[39mfor\u001b[39;00m a \u001b[39min\u001b[39;00m action_space}\n\u001b[0;32m--> 165\u001b[0m \u001b[39mfor\u001b[39;00m (r,c), _ \u001b[39min\u001b[39;00m np\u001b[39m.\u001b[39mndenumerate(posterior_distribution): \u001b[39m# For each position in the posterior... \u001b[39;00m\n\u001b[1;32m    166\u001b[0m     \u001b[39mfor\u001b[39;00m action \u001b[39min\u001b[39;00m action_space:\n\u001b[1;32m    167\u001b[0m         sa_pair \u001b[39m=\u001b[39m (sensor_state, action)\n",
      "File \u001b[0;32m~/.pyenv/versions/3.10.10/lib/python3.10/site-packages/numpy/lib/index_tricks.py:606\u001b[0m, in \u001b[0;36mndenumerate.__next__\u001b[0;34m(self)\u001b[0m\n\u001b[1;32m    594\u001b[0m \u001b[39mdef\u001b[39;00m \u001b[39m__next__\u001b[39m(\u001b[39mself\u001b[39m):\n\u001b[1;32m    595\u001b[0m \u001b[39m    \u001b[39m\u001b[39m\"\"\"\u001b[39;00m\n\u001b[1;32m    596\u001b[0m \u001b[39m    Standard iterator method, returns the index tuple and array value.\u001b[39;00m\n\u001b[1;32m    597\u001b[0m \n\u001b[0;32m   (...)\u001b[0m\n\u001b[1;32m    604\u001b[0m \n\u001b[1;32m    605\u001b[0m \u001b[39m    \"\"\"\u001b[39;00m\n\u001b[0;32m--> 606\u001b[0m     \u001b[39mreturn\u001b[39;00m \u001b[39mself\u001b[39m\u001b[39m.\u001b[39miter\u001b[39m.\u001b[39mcoords, \u001b[39mnext\u001b[39;49m(\u001b[39mself\u001b[39;49m\u001b[39m.\u001b[39;49miter)\n",
      "\u001b[0;31mKeyboardInterrupt\u001b[0m: "
     ]
    }
   ],
   "source": [
    "last_path_lengths, min_path_lengths, running_times_weaning = run_experiment((0.3,0.9), (0.3,0.8), gridsize=7)"
   ]
  },
  {
   "cell_type": "code",
   "execution_count": 19,
   "metadata": {},
   "outputs": [],
   "source": [
    "# Function to run one combination of lr and df\n",
    "def run_one_combination(curiosities, lr, df, n_runs=100):\n",
    "    print(f'LR: {lr}, DF: {df}')\n",
    "    start = time.time()\n",
    "    for seed in range(50):\n",
    "        print(f'{seed}/50')\n",
    "        position_histories = run_one_seed(seed, \n",
    "                                            parameters={\n",
    "                                                'curiosity': curiosities,\n",
    "                                                'step_reward': -0.1,\n",
    "                                                'goal_reward': 1,\n",
    "                                                'learning_rate': lr,\n",
    "                                                'discount_factor': df,\n",
    "                                            },\n",
    "                                            n_runs=n_runs)\n",
    "    end = time.time()\n",
    "\n",
    "    path_lengths = [len(pl) for pl in position_histories]\n",
    "    return lr, df, path_lengths, end-start\n",
    "\n",
    "def run_experiment(lr_interval, df_interval, curiosity_interval=(0.2,0.9), gridsize=10, n_runs=100):\n",
    "    curiosities = list(reversed(np.linspace(curiosity_interval[0], curiosity_interval[1], n_runs)))\n",
    "    learning_rates = list(reversed(np.linspace(lr_interval[0], lr_interval[1], gridsize)))\n",
    "    discount_factors = list(reversed(np.linspace(df_interval[0], df_interval[1], gridsize)))\n",
    "\n",
    "    # Dictionaries to store results\n",
    "    last_path_lengths = {lr: {df: 0 for df in discount_factors} for lr in learning_rates}\n",
    "    min_path_lengths = {lr: {df: 0 for df in discount_factors} for lr in learning_rates}\n",
    "    running_times = {lr: {df: 0 for df in discount_factors} for lr in learning_rates}\n",
    "\n",
    "    # Use ProcessPoolExecutor to parallelize\n",
    "    with ProcessPoolExecutor() as executor:\n",
    "        futures = [executor.submit(run_one_combination, curiosities, lr, df) for lr in learning_rates for df in discount_factors]\n",
    "\n",
    "        for future in concurrent.futures.as_completed(futures):\n",
    "            lr, df, path_lengths, run_time = future.result()\n",
    "            running_times[lr][df] = run_time\n",
    "            last_path_lengths[lr][df] = path_lengths[-1]\n",
    "            min_path_lengths[lr][df] = min(path_lengths)\n",
    "\n",
    "    return last_path_lengths, min_path_lengths, running_times"
   ]
  },
  {
   "cell_type": "code",
   "execution_count": 20,
   "metadata": {},
   "outputs": [
    {
     "name": "stderr",
     "output_type": "stream",
     "text": [
      "Process SpawnProcess-41:\n",
      "Traceback (most recent call last):\n",
      "  File \"/Users/kam/.pyenv/versions/3.10.10/lib/python3.10/multiprocessing/process.py\", line 314, in _bootstrap\n",
      "    self.run()\n",
      "  File \"/Users/kam/.pyenv/versions/3.10.10/lib/python3.10/multiprocessing/process.py\", line 108, in run\n",
      "    self._target(*self._args, **self._kwargs)\n",
      "  File \"/Users/kam/.pyenv/versions/3.10.10/lib/python3.10/concurrent/futures/process.py\", line 240, in _process_worker\n",
      "    call_item = call_queue.get(block=True)\n",
      "  File \"/Users/kam/.pyenv/versions/3.10.10/lib/python3.10/multiprocessing/queues.py\", line 122, in get\n",
      "    return _ForkingPickler.loads(res)\n",
      "AttributeError: Can't get attribute 'run_one_combination' on <module '__main__' (built-in)>\n",
      "Process SpawnProcess-42:\n",
      "Traceback (most recent call last):\n",
      "  File \"/Users/kam/.pyenv/versions/3.10.10/lib/python3.10/multiprocessing/process.py\", line 314, in _bootstrap\n",
      "    self.run()\n",
      "  File \"/Users/kam/.pyenv/versions/3.10.10/lib/python3.10/multiprocessing/process.py\", line 108, in run\n",
      "    self._target(*self._args, **self._kwargs)\n",
      "  File \"/Users/kam/.pyenv/versions/3.10.10/lib/python3.10/concurrent/futures/process.py\", line 240, in _process_worker\n",
      "    call_item = call_queue.get(block=True)\n",
      "  File \"/Users/kam/.pyenv/versions/3.10.10/lib/python3.10/multiprocessing/queues.py\", line 122, in get\n",
      "    return _ForkingPickler.loads(res)\n",
      "AttributeError: Can't get attribute 'run_one_combination' on <module '__main__' (built-in)>\n",
      "Process SpawnProcess-43:\n",
      "Traceback (most recent call last):\n",
      "  File \"/Users/kam/.pyenv/versions/3.10.10/lib/python3.10/multiprocessing/process.py\", line 314, in _bootstrap\n",
      "    self.run()\n",
      "  File \"/Users/kam/.pyenv/versions/3.10.10/lib/python3.10/multiprocessing/process.py\", line 108, in run\n",
      "    self._target(*self._args, **self._kwargs)\n",
      "  File \"/Users/kam/.pyenv/versions/3.10.10/lib/python3.10/concurrent/futures/process.py\", line 240, in _process_worker\n",
      "    call_item = call_queue.get(block=True)\n",
      "  File \"/Users/kam/.pyenv/versions/3.10.10/lib/python3.10/multiprocessing/queues.py\", line 122, in get\n",
      "    return _ForkingPickler.loads(res)\n",
      "AttributeError: Can't get attribute 'run_one_combination' on <module '__main__' (built-in)>\n"
     ]
    },
    {
     "ename": "BrokenProcessPool",
     "evalue": "A child process terminated abruptly, the process pool is not usable anymore",
     "output_type": "error",
     "traceback": [
      "\u001b[0;31m---------------------------------------------------------------------------\u001b[0m",
      "\u001b[0;31mBrokenProcessPool\u001b[0m                         Traceback (most recent call last)",
      "Cell \u001b[0;32mIn[20], line 1\u001b[0m\n\u001b[0;32m----> 1\u001b[0m last_path_lengths, min_path_lengths, running_times_weaning \u001b[39m=\u001b[39m run_experiment((\u001b[39m0.3\u001b[39;49m,\u001b[39m0.8\u001b[39;49m), (\u001b[39m0.3\u001b[39;49m,\u001b[39m0.8\u001b[39;49m), gridsize\u001b[39m=\u001b[39;49m\u001b[39m7\u001b[39;49m)\n",
      "Cell \u001b[0;32mIn[19], line 33\u001b[0m, in \u001b[0;36mrun_experiment\u001b[0;34m(lr_interval, df_interval, curiosity_interval, gridsize, n_runs)\u001b[0m\n\u001b[1;32m     31\u001b[0m \u001b[39m# Use ProcessPoolExecutor to parallelize\u001b[39;00m\n\u001b[1;32m     32\u001b[0m \u001b[39mwith\u001b[39;00m ProcessPoolExecutor() \u001b[39mas\u001b[39;00m executor:\n\u001b[0;32m---> 33\u001b[0m     futures \u001b[39m=\u001b[39m [executor\u001b[39m.\u001b[39msubmit(run_one_combination, curiosities, lr, df) \u001b[39mfor\u001b[39;00m lr \u001b[39min\u001b[39;00m learning_rates \u001b[39mfor\u001b[39;00m df \u001b[39min\u001b[39;00m discount_factors]\n\u001b[1;32m     35\u001b[0m     \u001b[39mfor\u001b[39;00m future \u001b[39min\u001b[39;00m concurrent\u001b[39m.\u001b[39mfutures\u001b[39m.\u001b[39mas_completed(futures):\n\u001b[1;32m     36\u001b[0m         lr, df, path_lengths, run_time \u001b[39m=\u001b[39m future\u001b[39m.\u001b[39mresult()\n",
      "Cell \u001b[0;32mIn[19], line 33\u001b[0m, in \u001b[0;36m<listcomp>\u001b[0;34m(.0)\u001b[0m\n\u001b[1;32m     31\u001b[0m \u001b[39m# Use ProcessPoolExecutor to parallelize\u001b[39;00m\n\u001b[1;32m     32\u001b[0m \u001b[39mwith\u001b[39;00m ProcessPoolExecutor() \u001b[39mas\u001b[39;00m executor:\n\u001b[0;32m---> 33\u001b[0m     futures \u001b[39m=\u001b[39m [executor\u001b[39m.\u001b[39;49msubmit(run_one_combination, curiosities, lr, df) \u001b[39mfor\u001b[39;00m lr \u001b[39min\u001b[39;00m learning_rates \u001b[39mfor\u001b[39;00m df \u001b[39min\u001b[39;00m discount_factors]\n\u001b[1;32m     35\u001b[0m     \u001b[39mfor\u001b[39;00m future \u001b[39min\u001b[39;00m concurrent\u001b[39m.\u001b[39mfutures\u001b[39m.\u001b[39mas_completed(futures):\n\u001b[1;32m     36\u001b[0m         lr, df, path_lengths, run_time \u001b[39m=\u001b[39m future\u001b[39m.\u001b[39mresult()\n",
      "File \u001b[0;32m~/.pyenv/versions/3.10.10/lib/python3.10/concurrent/futures/process.py:715\u001b[0m, in \u001b[0;36mProcessPoolExecutor.submit\u001b[0;34m(self, fn, *args, **kwargs)\u001b[0m\n\u001b[1;32m    713\u001b[0m \u001b[39mwith\u001b[39;00m \u001b[39mself\u001b[39m\u001b[39m.\u001b[39m_shutdown_lock:\n\u001b[1;32m    714\u001b[0m     \u001b[39mif\u001b[39;00m \u001b[39mself\u001b[39m\u001b[39m.\u001b[39m_broken:\n\u001b[0;32m--> 715\u001b[0m         \u001b[39mraise\u001b[39;00m BrokenProcessPool(\u001b[39mself\u001b[39m\u001b[39m.\u001b[39m_broken)\n\u001b[1;32m    716\u001b[0m     \u001b[39mif\u001b[39;00m \u001b[39mself\u001b[39m\u001b[39m.\u001b[39m_shutdown_thread:\n\u001b[1;32m    717\u001b[0m         \u001b[39mraise\u001b[39;00m \u001b[39mRuntimeError\u001b[39;00m(\u001b[39m'\u001b[39m\u001b[39mcannot schedule new futures after shutdown\u001b[39m\u001b[39m'\u001b[39m)\n",
      "\u001b[0;31mBrokenProcessPool\u001b[0m: A child process terminated abruptly, the process pool is not usable anymore"
     ]
    }
   ],
   "source": [
    "last_path_lengths, min_path_lengths, running_times_weaning = run_experiment((0.3,0.8), (0.3,0.8), gridsize=7)"
   ]
  },
  {
   "cell_type": "code",
   "execution_count": 5,
   "metadata": {},
   "outputs": [],
   "source": [
    "import pickle"
   ]
  },
  {
   "cell_type": "code",
   "execution_count": 6,
   "metadata": {},
   "outputs": [],
   "source": [
    "with open('min_path_lengths_lrdf.pkl', 'rb') as pf:\n",
    "    min_path_lengths = pickle.load(pf)"
   ]
  },
  {
   "cell_type": "code",
   "execution_count": 8,
   "metadata": {},
   "outputs": [
    {
     "name": "stdout",
     "output_type": "stream",
     "text": [
      "[0.8, 0.7166666666666666, 0.6333333333333333, 0.55, 0.4666666666666667, 0.3833333333333333, 0.3]\n",
      "[0.8, 0.7166666666666666, 0.6333333333333333, 0.55, 0.4666666666666667, 0.3833333333333333, 0.3]\n",
      "[[23. 25. 25. 23. 23. 23. 25.]\n",
      " [25. 23. 23. 23. 25. 25. 25.]\n",
      " [20. 43. 22. 37. 20. 22. 39.]\n",
      " [20. 20. 20. 24. 22. 51. 25.]\n",
      " [24. 20. 20. 35. 22. 41. 24.]\n",
      " [22. 20. 35. 35. 33. 22. 47.]\n",
      " [20. 20. 24. 29. 20. 43. 24.]]\n"
     ]
    },
    {
     "data": {
      "text/plain": [
       "Text(0.5, 1.0, 'Shortest path=20')"
      ]
     },
     "execution_count": 8,
     "metadata": {},
     "output_type": "execute_result"
    },
    {
     "data": {
      "image/png": "[encoded data removed]",
      "text/plain": [
       "<Figure size 640x480 with 2 Axes>"
      ]
     },
     "metadata": {},
     "output_type": "display_data"
    }
   ],
   "source": [
    "shortest_path = 20\n",
    "\n",
    "lr_values = list(min_path_lengths.keys())\n",
    "df_values = list(min_path_lengths[0.8].keys())\n",
    "\n",
    "grid = np.zeros((len(lr_values), len(df_values)))\n",
    "for i, lr in enumerate(lr_values):\n",
    "    for j, df in enumerate(df_values):\n",
    "        grid[i][j] = min_path_lengths[lr][df]\n",
    "\n",
    "print(lr_values)\n",
    "print(df_values)\n",
    "print(grid)\n",
    "\n",
    "plt.imshow(grid)\n",
    "plt.colorbar()\n",
    "plt.xticks(range(len(lr_values)), labels=[\"{:.2f}\".format(lr) for lr in lr_values])\n",
    "plt.xlabel('Learning Rate')\n",
    "plt.yticks(range(len(df_values)), labels=[\"{:.2f}\".format(df) for df in df_values])\n",
    "plt.ylabel('Discount Factor')\n",
    "\n",
    "plt.title(f'Shortest path={shortest_path}')"
   ]
  },
  {
   "cell_type": "code",
   "execution_count": null,
   "metadata": {},
   "outputs": [],
   "source": []
  }
 ],
 "metadata": {
  "kernelspec": {
   "display_name": "Python 3.10.10 64-bit ('3.10.10')",
   "language": "python",
   "name": "python3"
  },
  "language_info": {
   "codemirror_mode": {
    "name": "ipython",
    "version": 3
   },
   "file_extension": ".py",
   "mimetype": "text/x-python",
   "name": "python",
   "nbconvert_exporter": "python",
   "pygments_lexer": "ipython3",
   "version": "3.10.10"
  },
  "orig_nbformat": 4,
  "vscode": {
   "interpreter": {
    "hash": "d037490fde2cbe44c0a5616c9f5f515a07fa8dd165b80ca6402b207e41d11f13"
   }
  }
 },
 "nbformat": 4,
 "nbformat_minor": 2
}
