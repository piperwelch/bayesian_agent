{
 "cells": [
  {
   "cell_type": "code",
   "execution_count": 3,
   "metadata": {},
   "outputs": [],
   "source": [
    "import numpy as np"
   ]
  },
  {
   "cell_type": "code",
   "execution_count": 12,
   "metadata": {},
   "outputs": [],
   "source": [
    "# Create experiment file\n",
    "with open('exp_file.txt', 'w') as file: \n",
    "    file.write('{')\n",
    "    for confusion in range(1,10):\n",
    "        for curiosity in range(3, 10):\n",
    "            exp_params = {\n",
    "                'curiosity': (curiosity / 10, curiosity / 10), # tuple start and end\n",
    "                'confusion': confusion / 10,\n",
    "                'step_reward': -0.1,\n",
    "                'goal_reward': 1,\n",
    "                'learning_rate': 0.5,\n",
    "                'discount_factor': 0.8,\n",
    "                'bayesian': True,\n",
    "                'seed': 1,\n",
    "                'n_runs': 100\n",
    "            }\n",
    "            file.write(f'\\'arm_{confusion/10}_{curiosity/10}\\':\\n')\n",
    "            file.write(str(exp_params))\n",
    "            file.write(',\\n')\n",
    "\n",
    "    file.write('}')"
   ]
  },
  {
   "cell_type": "code",
   "execution_count": 2,
   "metadata": {},
   "outputs": [],
   "source": [
    "# Create experiment file\n",
    "with open('../exp_file_seedz.txt', 'w') as file: \n",
    "    file.write('{')\n",
    "    for seed in range(1000):\n",
    "            exp_params = {\n",
    "                'curiosity': (0.9,0.3), # tuple start and end\n",
    "                'confusion': 0.3,\n",
    "                'step_reward': -0.1,\n",
    "                'goal_reward': 1,\n",
    "                'learning_rate': 0.5,\n",
    "                'discount_factor': 0.8,\n",
    "                'bayesian': True,\n",
    "                'seed': seed,\n",
    "                'n_runs': 100\n",
    "            }\n",
    "            file.write(f'\\'arm_seed{seed}\\':\\n')\n",
    "            file.write(str(exp_params))\n",
    "            file.write(',\\n')\n",
    "\n",
    "    file.write('}')"
   ]
  },
  {
   "cell_type": "code",
   "execution_count": null,
   "metadata": {},
   "outputs": [],
   "source": []
  }
 ],
 "metadata": {
  "kernelspec": {
   "display_name": "Python 3.10.10 64-bit ('3.10.10')",
   "language": "python",
   "name": "python3"
  },
  "language_info": {
   "codemirror_mode": {
    "name": "ipython",
    "version": 3
   },
   "file_extension": ".py",
   "mimetype": "text/x-python",
   "name": "python",
   "nbconvert_exporter": "python",
   "pygments_lexer": "ipython3",
   "version": "3.10.10"
  },
  "orig_nbformat": 4,
  "vscode": {
   "interpreter": {
    "hash": "d037490fde2cbe44c0a5616c9f5f515a07fa8dd165b80ca6402b207e41d11f13"
   }
  }
 },
 "nbformat": 4,
 "nbformat_minor": 2
}
